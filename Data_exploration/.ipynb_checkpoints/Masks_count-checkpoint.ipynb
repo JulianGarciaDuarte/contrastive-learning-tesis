{
 "cells": [
  {
   "cell_type": "code",
   "execution_count": 2,
   "metadata": {},
   "outputs": [],
   "source": [
    "import glob\n",
    "import matplotlib.pyplot\n",
    "import os"
   ]
  },
  {
   "cell_type": "code",
   "execution_count": null,
   "metadata": {},
   "outputs": [],
   "source": [
    "root = '/data/Datasets/stroke/ISBI_FOSCAL/'\n",
    "search_pattern = '**/Masks/**.nii.gz'\n",
    "count_by = {\n",
    "    'doctor': ['Daniel', 'Andres'],\n",
    "    'type': ['NCCT', 'CT', 'ADC']\n",
    "}\n",
    "paths = glob.glob(os.path.join(root, search_pattern), recursive=True)"
   ]
  },
  {
   "cell_type": "code",
   "execution_count": 3,
   "metadata": {},
   "outputs": [
    {
     "data": {
      "text/plain": [
       "'/home/srazul/Tesis/Data_exploration'"
      ]
     },
     "execution_count": 3,
     "metadata": {},
     "output_type": "execute_result"
    }
   ],
   "source": [
    "os.getcwd()"
   ]
  }
 ],
 "metadata": {
  "kernelspec": {
   "display_name": "Python 3",
   "language": "python",
   "name": "python3"
  },
  "language_info": {
   "codemirror_mode": {
    "name": "ipython",
    "version": 3
   },
   "file_extension": ".py",
   "mimetype": "text/x-python",
   "name": "python",
   "nbconvert_exporter": "python",
   "pygments_lexer": "ipython3",
   "version": "3.8.10"
  }
 },
 "nbformat": 4,
 "nbformat_minor": 2
}
