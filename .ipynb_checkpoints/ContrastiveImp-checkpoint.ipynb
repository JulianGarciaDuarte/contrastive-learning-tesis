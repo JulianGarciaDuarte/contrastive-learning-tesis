{
 "cells": [
  {
   "cell_type": "code",
   "execution_count": 8,
   "metadata": {},
   "outputs": [],
   "source": [
    "import tensorflow as tf\n",
    "import nibabel as nb\n",
    "import tensorflow_datasets as tfds\n",
    "from tensorflow.keras import layers"
   ]
  },
  {
   "cell_type": "markdown",
   "metadata": {},
   "source": [
    "## Global Asumptions"
   ]
  },
  {
   "cell_type": "code",
   "execution_count": 6,
   "metadata": {},
   "outputs": [],
   "source": [
    "image_size=96\n",
    "channels=3\n",
    "batch_size = 10"
   ]
  },
  {
   "cell_type": "markdown",
   "metadata": {},
   "source": [
    "## Test Dataset"
   ]
  },
  {
   "cell_type": "code",
   "execution_count": null,
   "metadata": {},
   "outputs": [
    {
     "name": "stdout",
     "output_type": "stream",
     "text": [
      "Downloading and preparing dataset 162.17 MiB (download: 162.17 MiB, generated: 132.40 MiB, total: 294.58 MiB) to /root/tensorflow_datasets/cifar10/3.0.2...\n"
     ]
    },
    {
     "data": {
      "application/vnd.jupyter.widget-view+json": {
       "model_id": "1aabbc51530a4584ae8a47f08bf2d64c",
       "version_major": 2,
       "version_minor": 0
      },
      "text/plain": [
       "Dl Completed...: 0 url [00:00, ? url/s]"
      ]
     },
     "metadata": {},
     "output_type": "display_data"
    },
    {
     "data": {
      "application/vnd.jupyter.widget-view+json": {
       "model_id": "5014a25db8ba4534bf1f2e3c574d5353",
       "version_major": 2,
       "version_minor": 0
      },
      "text/plain": [
       "Dl Size...: 0 MiB [00:00, ? MiB/s]"
      ]
     },
     "metadata": {},
     "output_type": "display_data"
    },
    {
     "data": {
      "application/vnd.jupyter.widget-view+json": {
       "model_id": "941b10abc4814aa7afdc6a46ad705971",
       "version_major": 2,
       "version_minor": 0
      },
      "text/plain": [
       "Extraction completed...: 0 file [00:00, ? file/s]"
      ]
     },
     "metadata": {},
     "output_type": "display_data"
    }
   ],
   "source": [
    "# Cifar 10\n",
    "test_dataset = (tfds.load('cifar10', split='train')\n",
    "                .shuffle(batch_size=batch_size)\n",
    "                .batch(batch_size)\n",
    "               )\n"
   ]
  },
  {
   "cell_type": "code",
   "execution_count": null,
   "metadata": {},
   "outputs": [],
   "source": []
  },
  {
   "cell_type": "markdown",
   "metadata": {},
   "source": [
    "# Augmentations:\n",
    "\n",
    "1. Standard Normalization\n",
    "2. Random scale\n",
    "3. Random brightness adjust"
   ]
  },
  {
   "cell_type": "code",
   "execution_count": 7,
   "metadata": {},
   "outputs": [],
   "source": [
    "# Data pipeline\n",
    "class Augmenter(layers.Layer):\n",
    "    def __init__(self, scale, brightness, **kwargs):\n",
    "        super().__init__(**kwargs)\n",
    "        self.brightness = brightness\n",
    "        self.scale = scale\n",
    "        \n",
    "    def get_config(self):\n",
    "        config = super().get_config()\n",
    "        config.update({'brightness': self.brightness, 'scale': self.scale})\n",
    "        return config\n",
    "    \n",
    "    def call(self, images, training=True):\n",
    "        \n",
    "        if training:\n",
    "            batch_size=images.shape[0]\n",
    "            width = images.shape[1]\n",
    "            height = images.shape[2]\n",
    "            \n",
    "            # Applies random scale\n",
    "            new_width = tf.random.uniform((batch_size, 1, 1, 1))\n",
    "            scaled = tf.image.resize(images, [int(width * self.scale), int(height * self.scale)] )\n",
    "            \n",
    "            return scaled\n",
    "\n",
    "def get_augmenter(scale, brightness):\n",
    "    aug = keras.Sequential([\n",
    "        keras.Input(shape=(image_size, image_size, channels)),\n",
    "        Augmenter(scale, brightness)\n",
    "    ])"
   ]
  },
  {
   "cell_type": "code",
   "execution_count": null,
   "metadata": {},
   "outputs": [],
   "source": [
    "augmenter = get_augmenter\n"
   ]
  }
 ],
 "metadata": {
  "kernelspec": {
   "display_name": "Python 3",
   "language": "python",
   "name": "python3"
  },
  "language_info": {
   "codemirror_mode": {
    "name": "ipython",
    "version": 3
   },
   "file_extension": ".py",
   "mimetype": "text/x-python",
   "name": "python",
   "nbconvert_exporter": "python",
   "pygments_lexer": "ipython3",
   "version": "3.8.10"
  }
 },
 "nbformat": 4,
 "nbformat_minor": 2
}
